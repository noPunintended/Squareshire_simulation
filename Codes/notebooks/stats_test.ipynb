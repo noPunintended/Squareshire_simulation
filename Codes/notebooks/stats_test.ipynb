{
 "cells": [
  {
   "cell_type": "code",
   "execution_count": 264,
   "id": "1f40273b-5083-4b8e-80cf-9d1bb5c3ebf8",
   "metadata": {},
   "outputs": [],
   "source": [
    "import numpy as np\n",
    "import pandas as pd\n",
    "import sys\n",
    "import matplotlib.pyplot as plt\n",
    "sys.path.append('..')\n",
    "from scipy import stats\n",
    "from datetime import datetime\n",
    "from utils.traveling import calculate_distance"
   ]
  },
  {
   "cell_type": "markdown",
   "id": "ad0b0b2c-b120-465d-ac2f-f7a8a27b17bd",
   "metadata": {},
   "source": [
    "### Read Data"
   ]
  },
  {
   "cell_type": "code",
   "execution_count": 211,
   "id": "1074b34b-fd87-4cab-abe6-51f3c459a5fe",
   "metadata": {},
   "outputs": [],
   "source": [
    "drivers_df = pd.read_excel('../data/drivers.xlsx')\n",
    "riders_df = pd.read_excel('../data/riders.xlsx')"
   ]
  },
  {
   "cell_type": "code",
   "execution_count": 83,
   "id": "af673c43-95ee-4920-88a6-287d1200a559",
   "metadata": {},
   "outputs": [],
   "source": [
    "def convert_time_to_float(time_series):\n",
    "    # Convert to datetime objects\n",
    "    deltas = time_series.diff().dt.total_seconds().dropna().tolist()\n",
    "    deltas = np.array(deltas)/60\n",
    "    return deltas"
   ]
  },
  {
   "cell_type": "code",
   "execution_count": 167,
   "id": "a21de49e-37e4-4561-8cd2-37156678d25c",
   "metadata": {},
   "outputs": [],
   "source": [
    "def mle_params(series, dist_name):\n",
    "    if dist_name == 'exponential':\n",
    "        dist = stats.expon\n",
    "    elif dist_name == 'uniform':\n",
    "        dist = stats.uniform\n",
    "    else:\n",
    "        raise ValueError(f\"Unsupported distribution: {dist_name}\")\n",
    "    return dist.fit(series, floc=0)"
   ]
  },
  {
   "cell_type": "code",
   "execution_count": 168,
   "id": "82f03514-ee63-4567-baea-ef3197d67ef9",
   "metadata": {},
   "outputs": [],
   "source": [
    "def ks_test(series, dist_name, params):\n",
    "    \"\"\"\n",
    "    Performs the Kolmogorov-Smirnov (KS) test while correctly passing estimated parameters\n",
    "    to the cumulative distribution function (CDF), including degrees of freedom adjustments.\n",
    "\n",
    "    :param series: Numeric data series (e.g., time deltas).\n",
    "    :param dist_name: Name of the distribution ('exponential', 'uniform', etc.).\n",
    "    :return: KS statistic and p-value.\n",
    "    \"\"\"\n",
    "    if dist_name == 'exponential':\n",
    "        dist = stats.expon\n",
    "    elif dist_name == 'uniform':\n",
    "        dist = stats.uniform\n",
    "    else:\n",
    "        raise ValueError(f\"Unsupported distribution: {dist_name}\")\n",
    "\n",
    "    n = len(series)\n",
    "    # Perform KS test and explicitly pass fitted parameters (including df adjustment)\n",
    "    ks_stat, p_value = stats.kstest(series, dist.cdf, args=params, N=n)\n",
    "\n",
    "    return ks_stat, p_value\n",
    "\n"
   ]
  },
  {
   "cell_type": "code",
   "execution_count": 150,
   "id": "ba16e86c-b90b-4cfb-971e-22282ae61b0c",
   "metadata": {},
   "outputs": [],
   "source": [
    "deltas_drivers = convert_time_to_float(drivers_df['arrival_datetime'])\n",
    "deltas_riders = convert_time_to_float(riders_df['request_datetime'])"
   ]
  },
  {
   "cell_type": "code",
   "execution_count": 151,
   "id": "e1c80570-42a1-41cd-9e7e-515a1bd213cf",
   "metadata": {},
   "outputs": [
    {
     "data": {
      "text/plain": [
       "(array([42., 50., 35., 30., 31., 30., 25., 17., 19., 16., 13.,  7.,  5.,\n",
       "        11.,  9.,  6.,  3.,  6.,  4.,  0.,  0.,  0.,  5.,  1.,  2.,  4.,\n",
       "         2.,  1.,  2.,  1.,  0.,  0.,  0.,  0.,  2.,  0.,  1.,  0.,  0.,\n",
       "         0.,  0.,  1.,  0.,  0.,  0.,  0.,  0.,  0.,  0.,  1.]),\n",
       " array([1.01550000e-01, 2.14590067e+00, 4.19025133e+00, 6.23460200e+00,\n",
       "        8.27895267e+00, 1.03233033e+01, 1.23676540e+01, 1.44120047e+01,\n",
       "        1.64563553e+01, 1.85007060e+01, 2.05450567e+01, 2.25894073e+01,\n",
       "        2.46337580e+01, 2.66781087e+01, 2.87224593e+01, 3.07668100e+01,\n",
       "        3.28111607e+01, 3.48555113e+01, 3.68998620e+01, 3.89442127e+01,\n",
       "        4.09885633e+01, 4.30329140e+01, 4.50772647e+01, 4.71216153e+01,\n",
       "        4.91659660e+01, 5.12103167e+01, 5.32546673e+01, 5.52990180e+01,\n",
       "        5.73433687e+01, 5.93877193e+01, 6.14320700e+01, 6.34764207e+01,\n",
       "        6.55207713e+01, 6.75651220e+01, 6.96094727e+01, 7.16538233e+01,\n",
       "        7.36981740e+01, 7.57425247e+01, 7.77868753e+01, 7.98312260e+01,\n",
       "        8.18755767e+01, 8.39199273e+01, 8.59642780e+01, 8.80086287e+01,\n",
       "        9.00529793e+01, 9.20973300e+01, 9.41416807e+01, 9.61860313e+01,\n",
       "        9.82303820e+01, 1.00274733e+02, 1.02319083e+02]),\n",
       " <BarContainer object of 50 artists>)"
      ]
     },
     "execution_count": 151,
     "metadata": {},
     "output_type": "execute_result"
    },
    {
     "data": {
      "image/png": "[encoded data removed]",
      "text/plain": [
       "<Figure size 640x480 with 1 Axes>"
      ]
     },
     "metadata": {},
     "output_type": "display_data"
    }
   ],
   "source": [
    "plt.hist(deltas_drivers, bins= 50)"
   ]
  },
  {
   "cell_type": "code",
   "execution_count": 152,
   "id": "58ad1ace-d560-43a9-93dd-2292b1f14cd5",
   "metadata": {},
   "outputs": [
    {
     "data": {
      "text/plain": [
       "(array([650., 467., 392., 328., 261., 186., 146., 126., 100.,  85.,  79.,\n",
       "         46.,  36.,  20.,  20.,  24.,  21.,   9.,   5.,   8.,   4.,   4.,\n",
       "          5.,   3.,   2.,   1.,   2.,   3.,   1.,   0.,   0.,   0.,   1.,\n",
       "          0.,   1.,   0.,   2.,   0.,   0.,   0.,   0.,   0.,   0.,   0.,\n",
       "          0.,   0.,   0.,   0.,   0.,   1.]),\n",
       " array([6.16666667e-04, 4.35554333e-01, 8.70492000e-01, 1.30542967e+00,\n",
       "        1.74036733e+00, 2.17530500e+00, 2.61024267e+00, 3.04518033e+00,\n",
       "        3.48011800e+00, 3.91505567e+00, 4.34999333e+00, 4.78493100e+00,\n",
       "        5.21986867e+00, 5.65480633e+00, 6.08974400e+00, 6.52468167e+00,\n",
       "        6.95961933e+00, 7.39455700e+00, 7.82949467e+00, 8.26443233e+00,\n",
       "        8.69937000e+00, 9.13430767e+00, 9.56924533e+00, 1.00041830e+01,\n",
       "        1.04391207e+01, 1.08740583e+01, 1.13089960e+01, 1.17439337e+01,\n",
       "        1.21788713e+01, 1.26138090e+01, 1.30487467e+01, 1.34836843e+01,\n",
       "        1.39186220e+01, 1.43535597e+01, 1.47884973e+01, 1.52234350e+01,\n",
       "        1.56583727e+01, 1.60933103e+01, 1.65282480e+01, 1.69631857e+01,\n",
       "        1.73981233e+01, 1.78330610e+01, 1.82679987e+01, 1.87029363e+01,\n",
       "        1.91378740e+01, 1.95728117e+01, 2.00077493e+01, 2.04426870e+01,\n",
       "        2.08776247e+01, 2.13125623e+01, 2.17475000e+01]),\n",
       " <BarContainer object of 50 artists>)"
      ]
     },
     "execution_count": 152,
     "metadata": {},
     "output_type": "execute_result"
    },
    {
     "data": {
      "image/png": "[encoded data removed]",
      "text/plain": [
       "<Figure size 640x480 with 1 Axes>"
      ]
     },
     "metadata": {},
     "output_type": "display_data"
    }
   ],
   "source": [
    "plt.hist(deltas_riders, bins= 50)"
   ]
  },
  {
   "cell_type": "markdown",
   "id": "c62a3dc0-d3ee-4b33-b04d-1246a8241f76",
   "metadata": {},
   "source": [
    "### Test Inter-Arrival"
   ]
  },
  {
   "cell_type": "markdown",
   "id": "a068b510-22e2-4ea3-83a0-48ef07da4fd7",
   "metadata": {},
   "source": [
    "### Test using Given params"
   ]
  },
  {
   "cell_type": "code",
   "execution_count": 169,
   "id": "c1043b2b-43b0-4727-91c9-5e90f8e0b306",
   "metadata": {},
   "outputs": [
    {
     "data": {
      "text/plain": [
       "(0.13650147793000822, 1.1395508701405754e-06)"
      ]
     },
     "execution_count": 169,
     "metadata": {},
     "output_type": "execute_result"
    }
   ],
   "source": [
    "drivers_ks_test = ks_test(deltas_drivers, 'exponential', (0, 1/0.05))\n",
    "drivers_ks_test"
   ]
  },
  {
   "cell_type": "code",
   "execution_count": 170,
   "id": "27fc45eb-6259-47ec-b6a4-52060d6ecb68",
   "metadata": {},
   "outputs": [
    {
     "data": {
      "text/plain": [
       "(0.03015083109996064, 0.007804816052519704)"
      ]
     },
     "execution_count": 170,
     "metadata": {},
     "output_type": "execute_result"
    }
   ],
   "source": [
    "riders_ks_test = ks_test(deltas_riders, 'exponential', (0, 1/0.5))\n",
    "riders_ks_test"
   ]
  },
  {
   "cell_type": "code",
   "execution_count": 175,
   "id": "8130dda1-8f86-473b-864c-b45ed2135a8c",
   "metadata": {},
   "outputs": [
    {
     "data": {
      "text/plain": [
       "0.06818402519746007"
      ]
     },
     "execution_count": 175,
     "metadata": {},
     "output_type": "execute_result"
    }
   ],
   "source": [
    "1 / mle_params(deltas_drivers, 'exponential')[1]"
   ]
  },
  {
   "cell_type": "code",
   "execution_count": 174,
   "id": "265e8418-56f6-44f3-99e1-830896534e15",
   "metadata": {},
   "outputs": [
    {
     "data": {
      "text/plain": [
       "0.5335198676870729"
      ]
     },
     "execution_count": 174,
     "metadata": {},
     "output_type": "execute_result"
    }
   ],
   "source": [
    "1 / mle_params(deltas_riders, 'exponential')[1]"
   ]
  },
  {
   "cell_type": "markdown",
   "id": "37462c3d-adb4-4607-8d34-0cdaa2272d5c",
   "metadata": {},
   "source": [
    "### Driver jobs time"
   ]
  },
  {
   "cell_type": "code",
   "execution_count": 295,
   "id": "66a23ec6-4f98-4141-9346-da01148a2e62",
   "metadata": {},
   "outputs": [
    {
     "data": {
      "text/plain": [
       "(0.6280426736111111, 1.1525559366680103e-146)"
      ]
     },
     "execution_count": 295,
     "metadata": {},
     "output_type": "execute_result"
    }
   ],
   "source": [
    "sample_jobs_time = (drivers_df['offline_datetime'] - drivers_df['arrival_datetime']).dt.total_seconds()\n",
    "sample_jobs_time = np.array(sample_jobs_time) / 60\n",
    "ks_test(sample_jobs_time, 'uniform', (300, 480))"
   ]
  },
  {
   "cell_type": "code",
   "execution_count": 291,
   "id": "66889ec0-2b8f-4521-841c-dc6b4ac8c091",
   "metadata": {},
   "outputs": [
    {
     "data": {
      "text/plain": [
       "478.53951666666666"
      ]
     },
     "execution_count": 291,
     "metadata": {},
     "output_type": "execute_result"
    }
   ],
   "source": [
    "sample_jobs_time.max()"
   ]
  },
  {
   "cell_type": "code",
   "execution_count": 290,
   "id": "2cb7e66f-7861-446c-b68e-635cff363cfd",
   "metadata": {},
   "outputs": [
    {
     "data": {
      "text/plain": [
       "360.5502666666667"
      ]
     },
     "execution_count": 290,
     "metadata": {},
     "output_type": "execute_result"
    }
   ],
   "source": [
    "sample_jobs_time.min()"
   ]
  },
  {
   "cell_type": "code",
   "execution_count": 296,
   "id": "57ba1a6a-b296-40d8-bd39-9c2dced90155",
   "metadata": {},
   "outputs": [
    {
     "data": {
      "text/plain": [
       "(array([ 5.,  2.,  5., 10.,  4.,  4.,  8.,  7.,  8.,  6.,  2.,  4.,  3.,\n",
       "         2.,  2.,  4.,  3.,  3.,  5.,  3.,  2.,  3.,  1.,  3.,  5.,  2.,\n",
       "         4.,  2.,  5.,  4.,  8.,  4.,  0.,  2.,  3.,  1.,  5.,  2.,  3.,\n",
       "         3.,  9.,  3.,  3.,  1.,  1.,  2.,  4.,  3.,  3.,  2.,  1.,  3.,\n",
       "         2.,  5.,  2.,  4.,  1.,  6.,  6.,  4.,  3.,  5.,  5.,  3.,  5.,\n",
       "         6.,  5.,  6.,  1.,  4.,  1.,  3.,  5.,  8.,  3.,  2.,  6.,  7.,\n",
       "         6.,  2.,  3.,  3.,  4.,  3.,  2.,  4.,  7.,  3.,  2.,  2.,  6.,\n",
       "         5.,  4.,  4.,  0.,  2.,  2., 12.,  7.,  5.]),\n",
       " array([360.55026667, 361.73015917, 362.91005167, 364.08994417,\n",
       "        365.26983667, 366.44972917, 367.62962167, 368.80951417,\n",
       "        369.98940667, 371.16929917, 372.34919167, 373.52908417,\n",
       "        374.70897667, 375.88886917, 377.06876167, 378.24865417,\n",
       "        379.42854667, 380.60843917, 381.78833167, 382.96822417,\n",
       "        384.14811667, 385.32800917, 386.50790167, 387.68779417,\n",
       "        388.86768667, 390.04757917, 391.22747167, 392.40736417,\n",
       "        393.58725667, 394.76714917, 395.94704167, 397.12693417,\n",
       "        398.30682667, 399.48671917, 400.66661167, 401.84650417,\n",
       "        403.02639667, 404.20628917, 405.38618167, 406.56607417,\n",
       "        407.74596667, 408.92585917, 410.10575167, 411.28564417,\n",
       "        412.46553667, 413.64542917, 414.82532167, 416.00521417,\n",
       "        417.18510667, 418.36499917, 419.54489167, 420.72478417,\n",
       "        421.90467667, 423.08456917, 424.26446167, 425.44435417,\n",
       "        426.62424667, 427.80413917, 428.98403167, 430.16392417,\n",
       "        431.34381667, 432.52370917, 433.70360167, 434.88349417,\n",
       "        436.06338667, 437.24327917, 438.42317167, 439.60306417,\n",
       "        440.78295667, 441.96284917, 443.14274167, 444.32263417,\n",
       "        445.50252667, 446.68241917, 447.86231167, 449.04220417,\n",
       "        450.22209667, 451.40198917, 452.58188167, 453.76177417,\n",
       "        454.94166667, 456.12155917, 457.30145167, 458.48134417,\n",
       "        459.66123667, 460.84112917, 462.02102167, 463.20091417,\n",
       "        464.38080667, 465.56069917, 466.74059167, 467.92048417,\n",
       "        469.10037667, 470.28026917, 471.46016167, 472.64005417,\n",
       "        473.81994667, 474.99983917, 476.17973167, 477.35962417,\n",
       "        478.53951667]),\n",
       " <BarContainer object of 100 artists>)"
      ]
     },
     "execution_count": 296,
     "metadata": {},
     "output_type": "execute_result"
    },
    {
     "data": {
      "image/png": "[encoded data removed]",
      "text/plain": [
       "<Figure size 640x480 with 1 Axes>"
      ]
     },
     "metadata": {},
     "output_type": "display_data"
    }
   ],
   "source": [
    "plt.hist(sample_jobs_time, bins=100)"
   ]
  },
  {
   "cell_type": "markdown",
   "id": "bbdc6990-0ac3-4db9-83ae-23ded959bdc6",
   "metadata": {},
   "source": [
    "#### Riders patience time"
   ]
  },
  {
   "cell_type": "markdown",
   "id": "f28af97a-6c4b-4e19-8105-7d9270416d21",
   "metadata": {},
   "source": [
    "No values might be testable using status count (binomial test)"
   ]
  },
  {
   "cell_type": "markdown",
   "id": "243dbeb0-63b7-4b10-a191-54fe7d64e65a",
   "metadata": {},
   "source": [
    "### Origins and Destination"
   ]
  },
  {
   "cell_type": "markdown",
   "id": "825df0e5-8879-42b6-9ca8-1f467e0474d6",
   "metadata": {},
   "source": [
    "#### Drivers, riders Origin, riders destination"
   ]
  },
  {
   "cell_type": "code",
   "execution_count": 212,
   "id": "30ff89ce-4256-4e1f-8d5e-be9269363db0",
   "metadata": {},
   "outputs": [],
   "source": [
    "drivers_df['initial_location'] = drivers_df['initial_location'].apply(lambda x: eval(x))\n",
    "riders_df['pickup_location'] = riders_df['pickup_location'].apply(lambda x: eval(x))\n",
    "riders_df['dropoff_location'] = riders_df['dropoff_location'].apply(lambda x: eval(x))"
   ]
  },
  {
   "cell_type": "code",
   "execution_count": 214,
   "id": "5b583291-f915-4d75-a829-61cac685c308",
   "metadata": {},
   "outputs": [],
   "source": [
    "driver_origin_x = drivers_df['initial_location'].apply(lambda x: x[0])\n",
    "driver_origin_y = drivers_df['initial_location'].apply(lambda x: x[1])\n",
    "rider_origin_x = riders_df['pickup_location'].apply(lambda x: x[0])\n",
    "rider_origin_y = riders_df['pickup_location'].apply(lambda x: x[1])\n",
    "rider_dest_x = riders_df['dropoff_location'].apply(lambda x: x[0])\n",
    "rider_dest_y = riders_df['dropoff_location'].apply(lambda x: x[1])"
   ]
  },
  {
   "cell_type": "code",
   "execution_count": 226,
   "id": "67b79cbb-a51c-400d-a6e0-59b95e48899a",
   "metadata": {},
   "outputs": [
    {
     "data": {
      "text/plain": [
       "<Axes: >"
      ]
     },
     "execution_count": 226,
     "metadata": {},
     "output_type": "execute_result"
    },
    {
     "data": {
      "image/png": "[encoded data removed]",
      "text/plain": [
       "<Figure size 640x480 with 1 Axes>"
      ]
     },
     "metadata": {},
     "output_type": "display_data"
    }
   ],
   "source": [
    "driver_origin_x.hist(bins=50)"
   ]
  },
  {
   "cell_type": "code",
   "execution_count": 227,
   "id": "8fbb869c-e055-465f-a03c-b512a43975e5",
   "metadata": {},
   "outputs": [
    {
     "data": {
      "text/plain": [
       "<Axes: >"
      ]
     },
     "execution_count": 227,
     "metadata": {},
     "output_type": "execute_result"
    },
    {
     "data": {
      "image/png": "[encoded data removed]",
      "text/plain": [
       "<Figure size 640x480 with 1 Axes>"
      ]
     },
     "metadata": {},
     "output_type": "display_data"
    }
   ],
   "source": [
    "driver_origin_y.hist(bins=50)"
   ]
  },
  {
   "cell_type": "code",
   "execution_count": 237,
   "id": "079470f4-6d32-43f1-ad17-e374cacfeeee",
   "metadata": {},
   "outputs": [
    {
     "data": {
      "text/plain": [
       "<Axes: >"
      ]
     },
     "execution_count": 237,
     "metadata": {},
     "output_type": "execute_result"
    },
    {
     "data": {
      "image/png": "[encoded data removed]",
      "text/plain": [
       "<Figure size 640x480 with 1 Axes>"
      ]
     },
     "metadata": {},
     "output_type": "display_data"
    }
   ],
   "source": [
    "rider_origin_x.hist(bins=50)"
   ]
  },
  {
   "cell_type": "code",
   "execution_count": 238,
   "id": "fbf83efd-2514-489a-bc8f-2d1e5170fcf0",
   "metadata": {},
   "outputs": [
    {
     "data": {
      "text/plain": [
       "<Axes: >"
      ]
     },
     "execution_count": 238,
     "metadata": {},
     "output_type": "execute_result"
    },
    {
     "data": {
      "image/png": "[encoded data removed]",
      "text/plain": [
       "<Figure size 640x480 with 1 Axes>"
      ]
     },
     "metadata": {},
     "output_type": "display_data"
    }
   ],
   "source": [
    "rider_origin_y.hist(bins=50)"
   ]
  },
  {
   "cell_type": "code",
   "execution_count": 228,
   "id": "bbf1ae36-9e93-477e-8f0b-3ea6d9b7d32f",
   "metadata": {},
   "outputs": [
    {
     "data": {
      "text/plain": [
       "<Axes: >"
      ]
     },
     "execution_count": 228,
     "metadata": {},
     "output_type": "execute_result"
    },
    {
     "data": {
      "image/png": "[encoded data removed]",
      "text/plain": [
       "<Figure size 640x480 with 1 Axes>"
      ]
     },
     "metadata": {},
     "output_type": "display_data"
    }
   ],
   "source": [
    "rider_dest_x.hist(bins=50)"
   ]
  },
  {
   "cell_type": "code",
   "execution_count": 234,
   "id": "8ff4ea4c-c88c-415a-9b83-7814ff2b5a9d",
   "metadata": {},
   "outputs": [
    {
     "data": {
      "text/plain": [
       "<Axes: >"
      ]
     },
     "execution_count": 234,
     "metadata": {},
     "output_type": "execute_result"
    },
    {
     "data": {
      "image/png": "[encoded data removed]",
      "text/plain": [
       "<Figure size 640x480 with 1 Axes>"
      ]
     },
     "metadata": {},
     "output_type": "display_data"
    }
   ],
   "source": [
    "rider_dest_y.hist(bins=50)"
   ]
  },
  {
   "cell_type": "markdown",
   "id": "8a6b63f7-9c84-4f06-83df-846515fc7d0f",
   "metadata": {},
   "source": [
    "#### suspiciously Gaussian"
   ]
  },
  {
   "cell_type": "code",
   "execution_count": 232,
   "id": "3d73f836-0f4f-435d-accc-3b5503adabc0",
   "metadata": {},
   "outputs": [
    {
     "data": {
      "text/plain": [
       "(0.15445515704023938, 1.913111142242514e-08)"
      ]
     },
     "execution_count": 232,
     "metadata": {},
     "output_type": "execute_result"
    }
   ],
   "source": [
    "ks_test(driver_origin_x, 'uniform', (0, 20))"
   ]
  },
  {
   "cell_type": "code",
   "execution_count": 245,
   "id": "b64e6b3d-b70b-4601-bafc-39bb0c79dc51",
   "metadata": {},
   "outputs": [
    {
     "data": {
      "text/plain": [
       "(0.18940735696757516, 1.6636954793638068e-12)"
      ]
     },
     "execution_count": 245,
     "metadata": {},
     "output_type": "execute_result"
    }
   ],
   "source": [
    "ks_test(driver_origin_y, 'uniform', (0, 20))"
   ]
  },
  {
   "cell_type": "code",
   "execution_count": 244,
   "id": "08919932-6a71-4910-8fd6-2d22dfa045cf",
   "metadata": {},
   "outputs": [
    {
     "data": {
      "text/plain": [
       "(0.32450008498277694, 1.8960142616459827e-285)"
      ]
     },
     "execution_count": 244,
     "metadata": {},
     "output_type": "execute_result"
    }
   ],
   "source": [
    "ks_test(rider_origin_x, 'uniform', (0, 20))"
   ]
  },
  {
   "cell_type": "code",
   "execution_count": 250,
   "id": "cb6ebf01-850d-4522-bf78-20f1f0beb4e6",
   "metadata": {},
   "outputs": [
    {
     "data": {
      "text/plain": [
       "(0.20654645766806135, 3.220341345129774e-114)"
      ]
     },
     "execution_count": 250,
     "metadata": {},
     "output_type": "execute_result"
    }
   ],
   "source": [
    "ks_test(rider_origin_y, 'uniform', (0, 20))"
   ]
  },
  {
   "cell_type": "code",
   "execution_count": 242,
   "id": "5c39754b-e888-4702-84ee-6aa2cb16758b",
   "metadata": {},
   "outputs": [
    {
     "data": {
      "text/plain": [
       "(0.13780035899024268, 8.134954839839249e-51)"
      ]
     },
     "execution_count": 242,
     "metadata": {},
     "output_type": "execute_result"
    }
   ],
   "source": [
    "ks_test(rider_dest_x, 'uniform', (0, 20))"
   ]
  },
  {
   "cell_type": "code",
   "execution_count": 243,
   "id": "ab95585d-aad6-4eda-b0bd-a9fc1a884b07",
   "metadata": {},
   "outputs": [
    {
     "data": {
      "text/plain": [
       "(0.16744178714027674, 5.728045182799932e-75)"
      ]
     },
     "execution_count": 243,
     "metadata": {},
     "output_type": "execute_result"
    }
   ],
   "source": [
    "ks_test(rider_dest_y, 'uniform', (0, 20))"
   ]
  },
  {
   "cell_type": "markdown",
   "id": "d9b98b93-59b7-4ab6-91f6-937c343d7757",
   "metadata": {},
   "source": [
    "### Test Origins and Destination"
   ]
  },
  {
   "cell_type": "code",
   "execution_count": 270,
   "id": "ac40ee7b-f434-43b1-86e1-dd6ab9275677",
   "metadata": {},
   "outputs": [
    {
     "data": {
      "text/plain": [
       "array([20.83455   , 19.5621    , 24.35865   , ..., 58.10045   ,\n",
       "       31.03663333, 27.64033333])"
      ]
     },
     "execution_count": 270,
     "metadata": {},
     "output_type": "execute_result"
    }
   ],
   "source": [
    "sample_travel_time_series = (riders_df['dropoff_datetime'] - riders_df['pickup_datetime']).dt.total_seconds()\n",
    "sample_travel_time = sample_travel_time_series[~ sample_travel_time_series.isna()]\n",
    "sample_travel_time = np.array(sample_travel_time) / 60\n",
    "sample_travel_time"
   ]
  },
  {
   "cell_type": "code",
   "execution_count": 271,
   "id": "6f5b1d8b-6bdd-40d6-8ce9-ea083482d061",
   "metadata": {},
   "outputs": [],
   "source": [
    "sample_dist = calculate_distance(rider_origin_x, rider_origin_y, rider_dest_x, rider_dest_y)[~ sample_travel_time_series.isna()]"
   ]
  },
  {
   "cell_type": "code",
   "execution_count": 273,
   "id": "8b73dff7-b1f8-487b-9ad1-9da7dafa3084",
   "metadata": {},
   "outputs": [
    {
     "data": {
      "text/plain": [
       "0       0.344767\n",
       "1       0.308847\n",
       "3       0.374602\n",
       "4       0.371420\n",
       "5       0.393921\n",
       "          ...   \n",
       "3027    0.349933\n",
       "3029    0.328338\n",
       "3030    0.303897\n",
       "3032    0.279918\n",
       "3036    0.293838\n",
       "Length: 2881, dtype: float64"
      ]
     },
     "execution_count": 273,
     "metadata": {},
     "output_type": "execute_result"
    }
   ],
   "source": [
    "sample_speed = sample_dist / sample_travel_time\n",
    "sample_speed"
   ]
  },
  {
   "cell_type": "code",
   "execution_count": 302,
   "id": "38c3f403-f0fd-410d-8041-2ae97658b2f5",
   "metadata": {},
   "outputs": [
    {
     "data": {
      "text/plain": [
       "(array([ 3.,  4.,  9., 10., 12., 13., 12., 15., 24., 27., 23., 32., 31.,\n",
       "        50., 47., 46., 45., 39., 42., 53., 52., 54., 54., 60., 41., 49.,\n",
       "        66., 44., 56., 52., 53., 48., 66., 55., 51., 44., 56., 50., 53.,\n",
       "        63., 63., 56., 43., 54., 50., 51., 49., 57., 34., 42., 47., 41.,\n",
       "        42., 42., 40., 34., 42., 35., 31., 37., 29., 26., 20., 23., 26.,\n",
       "        21., 24., 20., 23., 15., 13., 16., 16., 14., 10.,  9., 10.,  7.,\n",
       "        14.,  7.,  7.,  6.,  4.,  8.,  2.,  2.,  1.,  1.,  0.,  5.,  1.,\n",
       "         1.,  1.,  1.,  1.,  1.,  1.,  0.,  0.,  1.]),\n",
       " array([ 0.0991039 ,  0.326719  ,  0.55433411,  0.78194921,  1.00956431,\n",
       "         1.23717941,  1.46479451,  1.69240961,  1.92002471,  2.14763981,\n",
       "         2.37525491,  2.60287002,  2.83048512,  3.05810022,  3.28571532,\n",
       "         3.51333042,  3.74094552,  3.96856062,  4.19617572,  4.42379082,\n",
       "         4.65140593,  4.87902103,  5.10663613,  5.33425123,  5.56186633,\n",
       "         5.78948143,  6.01709653,  6.24471163,  6.47232673,  6.69994184,\n",
       "         6.92755694,  7.15517204,  7.38278714,  7.61040224,  7.83801734,\n",
       "         8.06563244,  8.29324754,  8.52086264,  8.74847775,  8.97609285,\n",
       "         9.20370795,  9.43132305,  9.65893815,  9.88655325, 10.11416835,\n",
       "        10.34178345, 10.56939855, 10.79701366, 11.02462876, 11.25224386,\n",
       "        11.47985896, 11.70747406, 11.93508916, 12.16270426, 12.39031936,\n",
       "        12.61793446, 12.84554957, 13.07316467, 13.30077977, 13.52839487,\n",
       "        13.75600997, 13.98362507, 14.21124017, 14.43885527, 14.66647037,\n",
       "        14.89408548, 15.12170058, 15.34931568, 15.57693078, 15.80454588,\n",
       "        16.03216098, 16.25977608, 16.48739118, 16.71500628, 16.94262139,\n",
       "        17.17023649, 17.39785159, 17.62546669, 17.85308179, 18.08069689,\n",
       "        18.30831199, 18.53592709, 18.76354219, 18.9911573 , 19.2187724 ,\n",
       "        19.4463875 , 19.6740026 , 19.9016177 , 20.1292328 , 20.3568479 ,\n",
       "        20.584463  , 20.8120781 , 21.03969321, 21.26730831, 21.49492341,\n",
       "        21.72253851, 21.95015361, 22.17776871, 22.40538381, 22.63299891,\n",
       "        22.86061401]),\n",
       " <BarContainer object of 100 artists>)"
      ]
     },
     "execution_count": 302,
     "metadata": {},
     "output_type": "execute_result"
    },
    {
     "data": {
      "image/png": "[encoded data removed]",
      "text/plain": [
       "<Figure size 640x480 with 1 Axes>"
      ]
     },
     "metadata": {},
     "output_type": "display_data"
    }
   ],
   "source": [
    "plt.hist(sample_dist, bins=100)"
   ]
  },
  {
   "cell_type": "code",
   "execution_count": 301,
   "id": "1a0d0187-c59e-48ac-bff7-a20bc1eee237",
   "metadata": {},
   "outputs": [
    {
     "data": {
      "text/plain": [
       "(array([ 3.,  5., 13.,  9., 18., 12., 14., 24., 19., 32., 40., 42., 51.,\n",
       "        43., 51., 41., 54., 49., 65., 54., 65., 55., 62., 54., 41., 65.,\n",
       "        55., 71., 55., 62., 59., 47., 59., 48., 64., 72., 48., 46., 58.,\n",
       "        55., 50., 53., 62., 47., 50., 46., 54., 52., 36., 38., 38., 31.,\n",
       "        41., 35., 24., 27., 35., 37., 18., 30., 22., 24., 25., 19., 21.,\n",
       "        12., 11., 11., 17., 11., 16., 10.,  9., 14.,  8.,  7.,  9.,  7.,\n",
       "         8.,  3.,  4.,  3.,  2.,  5.,  3.,  2.,  1.,  2.,  2.,  3.,  0.,\n",
       "         0.,  2.,  0.,  0.,  2.,  0.,  0.,  1.,  1.]),\n",
       " array([ 0.31245 ,  1.044251,  1.776052,  2.507853,  3.239654,  3.971455,\n",
       "         4.703256,  5.435057,  6.166858,  6.898659,  7.63046 ,  8.362261,\n",
       "         9.094062,  9.825863, 10.557664, 11.289465, 12.021266, 12.753067,\n",
       "        13.484868, 14.216669, 14.94847 , 15.680271, 16.412072, 17.143873,\n",
       "        17.875674, 18.607475, 19.339276, 20.071077, 20.802878, 21.534679,\n",
       "        22.26648 , 22.998281, 23.730082, 24.461883, 25.193684, 25.925485,\n",
       "        26.657286, 27.389087, 28.120888, 28.852689, 29.58449 , 30.316291,\n",
       "        31.048092, 31.779893, 32.511694, 33.243495, 33.975296, 34.707097,\n",
       "        35.438898, 36.170699, 36.9025  , 37.634301, 38.366102, 39.097903,\n",
       "        39.829704, 40.561505, 41.293306, 42.025107, 42.756908, 43.488709,\n",
       "        44.22051 , 44.952311, 45.684112, 46.415913, 47.147714, 47.879515,\n",
       "        48.611316, 49.343117, 50.074918, 50.806719, 51.53852 , 52.270321,\n",
       "        53.002122, 53.733923, 54.465724, 55.197525, 55.929326, 56.661127,\n",
       "        57.392928, 58.124729, 58.85653 , 59.588331, 60.320132, 61.051933,\n",
       "        61.783734, 62.515535, 63.247336, 63.979137, 64.710938, 65.442739,\n",
       "        66.17454 , 66.906341, 67.638142, 68.369943, 69.101744, 69.833545,\n",
       "        70.565346, 71.297147, 72.028948, 72.760749, 73.49255 ]),\n",
       " <BarContainer object of 100 artists>)"
      ]
     },
     "execution_count": 301,
     "metadata": {},
     "output_type": "execute_result"
    },
    {
     "data": {
      "image/png": "[encoded data removed]",
      "text/plain": [
       "<Figure size 640x480 with 1 Axes>"
      ]
     },
     "metadata": {},
     "output_type": "display_data"
    }
   ],
   "source": [
    "plt.hist(sample_travel_time, bins=100)"
   ]
  },
  {
   "cell_type": "code",
   "execution_count": 303,
   "id": "c809f30c-4987-45a5-a908-aecc9c6f86d3",
   "metadata": {},
   "outputs": [
    {
     "data": {
      "text/plain": [
       "<Axes: >"
      ]
     },
     "execution_count": 303,
     "metadata": {},
     "output_type": "execute_result"
    },
    {
     "data": {
      "image/png": "[encoded data removed]",
      "text/plain": [
       "<Figure size 640x480 with 1 Axes>"
      ]
     },
     "metadata": {},
     "output_type": "display_data"
    }
   ],
   "source": [
    "sample_speed.hist(bins=200)"
   ]
  },
  {
   "cell_type": "code",
   "execution_count": 287,
   "id": "c9cbcbe9-1437-42a8-a451-b285545627ce",
   "metadata": {},
   "outputs": [
    {
     "data": {
      "text/plain": [
       "(0.6253361170526348, 0.0)"
      ]
     },
     "execution_count": 287,
     "metadata": {},
     "output_type": "execute_result"
    }
   ],
   "source": [
    "ks_test(sample_speed, 'uniform', (((2/6) * 0.8), ((2/6) * 1.2)))"
   ]
  },
  {
   "cell_type": "markdown",
   "id": "c881bcf1-cf60-4fb0-aedc-af49cdf31e22",
   "metadata": {},
   "source": [
    "### CI "
   ]
  },
  {
   "cell_type": "code",
   "execution_count": 142,
   "id": "fad669a9-fb8a-4753-a2fd-2d264a1757c0",
   "metadata": {},
   "outputs": [],
   "source": [
    "def ks_confidence_interval(ks_stat, n, alpha=0.05):\n",
    "    \"\"\"\n",
    "    Computes the confidence interval for the KS statistic.\n",
    "\n",
    "    :param ks_stat: The KS test statistic.\n",
    "    :param n: Sample size used in the KS test.\n",
    "    :param alpha: Significance level (default: 0.05 for 95% CI).\n",
    "    :return: (lower_bound, upper_bound) confidence interval for the KS statistic.\n",
    "    \"\"\"\n",
    "    z_critical = stats.norm.ppf(1 - alpha / 2)  # 1.96 for 95% CI\n",
    "    se = 1 / np.sqrt(n)  # Standard error approximation\n",
    "\n",
    "    lower_bound = max(0, ks_stat - z_critical * se)  # Ensure CI is non-negative\n",
    "    upper_bound = min(1, ks_stat + z_critical * se)  # KS statistic cannot exceed 1\n",
    "\n",
    "    return lower_bound, upper_bound"
   ]
  },
  {
   "cell_type": "code",
   "execution_count": 148,
   "id": "a0b36dfd-1690-4585-a4fd-96fc1db2b447",
   "metadata": {},
   "outputs": [
    {
     "data": {
      "text/plain": [
       "(0.7869129954521543, 0.9874739579875695)"
      ]
     },
     "execution_count": 148,
     "metadata": {},
     "output_type": "execute_result"
    }
   ],
   "source": [
    "drivers_ks_ci = ks_confidence_interval(drivers_ks_test[0], len(deltas_drivers))\n",
    "drivers_ks_ci"
   ]
  },
  {
   "cell_type": "code",
   "execution_count": 106,
   "id": "3f5298cf-d3b4-4598-bb45-2056461317d8",
   "metadata": {},
   "outputs": [
    {
     "data": {
      "text/plain": [
       "(array([650., 467., 392., 328., 261., 186., 146., 126., 100.,  85.,  79.,\n",
       "         46.,  36.,  20.,  20.,  24.,  21.,   9.,   5.,   8.,   4.,   4.,\n",
       "          5.,   3.,   2.,   1.,   2.,   3.,   1.,   0.,   0.,   0.,   1.,\n",
       "          0.,   1.,   0.,   2.,   0.,   0.,   0.,   0.,   0.,   0.,   0.,\n",
       "          0.,   0.,   0.,   0.,   0.,   1.]),\n",
       " array([6.16666667e-04, 4.35554333e-01, 8.70492000e-01, 1.30542967e+00,\n",
       "        1.74036733e+00, 2.17530500e+00, 2.61024267e+00, 3.04518033e+00,\n",
       "        3.48011800e+00, 3.91505567e+00, 4.34999333e+00, 4.78493100e+00,\n",
       "        5.21986867e+00, 5.65480633e+00, 6.08974400e+00, 6.52468167e+00,\n",
       "        6.95961933e+00, 7.39455700e+00, 7.82949467e+00, 8.26443233e+00,\n",
       "        8.69937000e+00, 9.13430767e+00, 9.56924533e+00, 1.00041830e+01,\n",
       "        1.04391207e+01, 1.08740583e+01, 1.13089960e+01, 1.17439337e+01,\n",
       "        1.21788713e+01, 1.26138090e+01, 1.30487467e+01, 1.34836843e+01,\n",
       "        1.39186220e+01, 1.43535597e+01, 1.47884973e+01, 1.52234350e+01,\n",
       "        1.56583727e+01, 1.60933103e+01, 1.65282480e+01, 1.69631857e+01,\n",
       "        1.73981233e+01, 1.78330610e+01, 1.82679987e+01, 1.87029363e+01,\n",
       "        1.91378740e+01, 1.95728117e+01, 2.00077493e+01, 2.04426870e+01,\n",
       "        2.08776247e+01, 2.13125623e+01, 2.17475000e+01]),\n",
       " <BarContainer object of 50 artists>)"
      ]
     },
     "execution_count": 106,
     "metadata": {},
     "output_type": "execute_result"
    },
    {
     "data": {
      "image/png": "[encoded data removed]",
      "text/plain": [
       "<Figure size 640x480 with 1 Axes>"
      ]
     },
     "metadata": {},
     "output_type": "display_data"
    }
   ],
   "source": [
    "plt.hist(deltas_riders, bins= 50)"
   ]
  },
  {
   "cell_type": "code",
   "execution_count": 107,
   "id": "09c109d8-b2db-43bd-9e49-f3c2ff9e0e77",
   "metadata": {},
   "outputs": [
    {
     "name": "stdout",
     "output_type": "stream",
     "text": [
      "(0.10155, 14.56464192844677, 1)\n"
     ]
    },
    {
     "ename": "TypeError",
     "evalue": "_parse_args() takes from 1 to 3 positional arguments but 4 were given",
     "output_type": "error",
     "traceback": [
      "\u001b[0;31m---------------------------------------------------------------------------\u001b[0m",
      "\u001b[0;31mTypeError\u001b[0m                                 Traceback (most recent call last)",
      "Cell \u001b[0;32mIn[107], line 1\u001b[0m\n\u001b[0;32m----> 1\u001b[0m ks_test(deltas_drivers, \u001b[38;5;124m'\u001b[39m\u001b[38;5;124mexponential\u001b[39m\u001b[38;5;124m'\u001b[39m)\n",
      "Cell \u001b[0;32mIn[104], line 23\u001b[0m, in \u001b[0;36mks_test\u001b[0;34m(series, dist_name)\u001b[0m\n\u001b[1;32m     21\u001b[0m \u001b[38;5;28mprint\u001b[39m(params \u001b[38;5;241m+\u001b[39m (df_adjust,))\n\u001b[1;32m     22\u001b[0m \u001b[38;5;66;03m# Perform KS test and explicitly pass fitted parameters (including df adjustment)\u001b[39;00m\n\u001b[0;32m---> 23\u001b[0m ks_stat, p_value \u001b[38;5;241m=\u001b[39m stats\u001b[38;5;241m.\u001b[39mkstest(series, dist\u001b[38;5;241m.\u001b[39mcdf, args\u001b[38;5;241m=\u001b[39mparams \u001b[38;5;241m+\u001b[39m (df_adjust,))\n\u001b[1;32m     25\u001b[0m \u001b[38;5;28;01mreturn\u001b[39;00m ks_stat, p_value\n",
      "File \u001b[0;32m~/anaconda3/lib/python3.12/site-packages/scipy/stats/_axis_nan_policy.py:531\u001b[0m, in \u001b[0;36m_axis_nan_policy_factory.<locals>.axis_nan_policy_decorator.<locals>.axis_nan_policy_wrapper\u001b[0;34m(***failed resolving arguments***)\u001b[0m\n\u001b[1;32m    529\u001b[0m \u001b[38;5;28;01mif\u001b[39;00m sentinel:\n\u001b[1;32m    530\u001b[0m     samples \u001b[38;5;241m=\u001b[39m _remove_sentinel(samples, paired, sentinel)\n\u001b[0;32m--> 531\u001b[0m res \u001b[38;5;241m=\u001b[39m hypotest_fun_out(\u001b[38;5;241m*\u001b[39msamples, \u001b[38;5;241m*\u001b[39m\u001b[38;5;241m*\u001b[39mkwds)\n\u001b[1;32m    532\u001b[0m res \u001b[38;5;241m=\u001b[39m result_to_tuple(res)\n\u001b[1;32m    533\u001b[0m res \u001b[38;5;241m=\u001b[39m _add_reduced_axes(res, reduced_axes, keepdims)\n",
      "File \u001b[0;32m~/anaconda3/lib/python3.12/site-packages/scipy/_lib/_util.py:794\u001b[0m, in \u001b[0;36m_rename_parameter.<locals>.decorator.<locals>.wrapper\u001b[0;34m(*args, **kwargs)\u001b[0m\n\u001b[1;32m    792\u001b[0m         \u001b[38;5;28;01mraise\u001b[39;00m \u001b[38;5;167;01mTypeError\u001b[39;00m(message)\n\u001b[1;32m    793\u001b[0m     kwargs[new_name] \u001b[38;5;241m=\u001b[39m kwargs\u001b[38;5;241m.\u001b[39mpop(old_name)\n\u001b[0;32m--> 794\u001b[0m \u001b[38;5;28;01mreturn\u001b[39;00m fun(\u001b[38;5;241m*\u001b[39margs, \u001b[38;5;241m*\u001b[39m\u001b[38;5;241m*\u001b[39mkwargs)\n",
      "File \u001b[0;32m~/anaconda3/lib/python3.12/site-packages/scipy/stats/_stats_py.py:9024\u001b[0m, in \u001b[0;36mkstest\u001b[0;34m(rvs, cdf, args, N, alternative, method)\u001b[0m\n\u001b[1;32m   9022\u001b[0m xvals, yvals, cdf \u001b[38;5;241m=\u001b[39m _parse_kstest_args(rvs, cdf, args, N)\n\u001b[1;32m   9023\u001b[0m \u001b[38;5;28;01mif\u001b[39;00m cdf:\n\u001b[0;32m-> 9024\u001b[0m     \u001b[38;5;28;01mreturn\u001b[39;00m ks_1samp(xvals, cdf, args\u001b[38;5;241m=\u001b[39margs, alternative\u001b[38;5;241m=\u001b[39malternative,\n\u001b[1;32m   9025\u001b[0m                     method\u001b[38;5;241m=\u001b[39mmethod, _no_deco\u001b[38;5;241m=\u001b[39m\u001b[38;5;28;01mTrue\u001b[39;00m)\n\u001b[1;32m   9026\u001b[0m \u001b[38;5;28;01mreturn\u001b[39;00m ks_2samp(xvals, yvals, alternative\u001b[38;5;241m=\u001b[39malternative, method\u001b[38;5;241m=\u001b[39mmethod,\n\u001b[1;32m   9027\u001b[0m                 _no_deco\u001b[38;5;241m=\u001b[39m\u001b[38;5;28;01mTrue\u001b[39;00m)\n",
      "File \u001b[0;32m~/anaconda3/lib/python3.12/site-packages/scipy/stats/_axis_nan_policy.py:394\u001b[0m, in \u001b[0;36m_axis_nan_policy_factory.<locals>.axis_nan_policy_decorator.<locals>.axis_nan_policy_wrapper\u001b[0;34m(_no_deco, *args, **kwds)\u001b[0m\n\u001b[1;32m    390\u001b[0m \u001b[38;5;129m@wraps\u001b[39m(hypotest_fun_in)\n\u001b[1;32m    391\u001b[0m \u001b[38;5;28;01mdef\u001b[39;00m \u001b[38;5;21maxis_nan_policy_wrapper\u001b[39m(\u001b[38;5;241m*\u001b[39margs, _no_deco\u001b[38;5;241m=\u001b[39m\u001b[38;5;28;01mFalse\u001b[39;00m, \u001b[38;5;241m*\u001b[39m\u001b[38;5;241m*\u001b[39mkwds):\n\u001b[1;32m    393\u001b[0m     \u001b[38;5;28;01mif\u001b[39;00m _no_deco:  \u001b[38;5;66;03m# for testing, decorator does nothing\u001b[39;00m\n\u001b[0;32m--> 394\u001b[0m         \u001b[38;5;28;01mreturn\u001b[39;00m hypotest_fun_in(\u001b[38;5;241m*\u001b[39margs, \u001b[38;5;241m*\u001b[39m\u001b[38;5;241m*\u001b[39mkwds)\n\u001b[1;32m    396\u001b[0m     \u001b[38;5;66;03m# We need to be flexible about whether position or keyword\u001b[39;00m\n\u001b[1;32m    397\u001b[0m     \u001b[38;5;66;03m# arguments are used, but we need to make sure users don't pass\u001b[39;00m\n\u001b[1;32m    398\u001b[0m     \u001b[38;5;66;03m# both for the same parameter. To complicate matters, some\u001b[39;00m\n\u001b[0;32m   (...)\u001b[0m\n\u001b[1;32m    405\u001b[0m \n\u001b[1;32m    406\u001b[0m     \u001b[38;5;66;03m# Check for intersection between positional and keyword args\u001b[39;00m\n\u001b[1;32m    407\u001b[0m     params \u001b[38;5;241m=\u001b[39m \u001b[38;5;28mlist\u001b[39m(inspect\u001b[38;5;241m.\u001b[39msignature(hypotest_fun_in)\u001b[38;5;241m.\u001b[39mparameters)\n",
      "File \u001b[0;32m~/anaconda3/lib/python3.12/site-packages/scipy/_lib/_util.py:794\u001b[0m, in \u001b[0;36m_rename_parameter.<locals>.decorator.<locals>.wrapper\u001b[0;34m(*args, **kwargs)\u001b[0m\n\u001b[1;32m    792\u001b[0m         \u001b[38;5;28;01mraise\u001b[39;00m \u001b[38;5;167;01mTypeError\u001b[39;00m(message)\n\u001b[1;32m    793\u001b[0m     kwargs[new_name] \u001b[38;5;241m=\u001b[39m kwargs\u001b[38;5;241m.\u001b[39mpop(old_name)\n\u001b[0;32m--> 794\u001b[0m \u001b[38;5;28;01mreturn\u001b[39;00m fun(\u001b[38;5;241m*\u001b[39margs, \u001b[38;5;241m*\u001b[39m\u001b[38;5;241m*\u001b[39mkwargs)\n",
      "File \u001b[0;32m~/anaconda3/lib/python3.12/site-packages/scipy/stats/_stats_py.py:8372\u001b[0m, in \u001b[0;36mks_1samp\u001b[0;34m(x, cdf, args, alternative, method)\u001b[0m\n\u001b[1;32m   8370\u001b[0m N \u001b[38;5;241m=\u001b[39m \u001b[38;5;28mlen\u001b[39m(x)\n\u001b[1;32m   8371\u001b[0m x \u001b[38;5;241m=\u001b[39m np\u001b[38;5;241m.\u001b[39msort(x)\n\u001b[0;32m-> 8372\u001b[0m cdfvals \u001b[38;5;241m=\u001b[39m cdf(x, \u001b[38;5;241m*\u001b[39margs)\n\u001b[1;32m   8373\u001b[0m np_one \u001b[38;5;241m=\u001b[39m np\u001b[38;5;241m.\u001b[39mint8(\u001b[38;5;241m1\u001b[39m)\n\u001b[1;32m   8375\u001b[0m \u001b[38;5;28;01mif\u001b[39;00m alternative \u001b[38;5;241m==\u001b[39m \u001b[38;5;124m'\u001b[39m\u001b[38;5;124mgreater\u001b[39m\u001b[38;5;124m'\u001b[39m:\n",
      "File \u001b[0;32m~/anaconda3/lib/python3.12/site-packages/scipy/stats/_distn_infrastructure.py:2066\u001b[0m, in \u001b[0;36mrv_continuous.cdf\u001b[0;34m(self, x, *args, **kwds)\u001b[0m\n\u001b[1;32m   2044\u001b[0m \u001b[38;5;28;01mdef\u001b[39;00m \u001b[38;5;21mcdf\u001b[39m(\u001b[38;5;28mself\u001b[39m, x, \u001b[38;5;241m*\u001b[39margs, \u001b[38;5;241m*\u001b[39m\u001b[38;5;241m*\u001b[39mkwds):\n\u001b[1;32m   2045\u001b[0m \u001b[38;5;250m    \u001b[39m\u001b[38;5;124;03m\"\"\"\u001b[39;00m\n\u001b[1;32m   2046\u001b[0m \u001b[38;5;124;03m    Cumulative distribution function of the given RV.\u001b[39;00m\n\u001b[1;32m   2047\u001b[0m \n\u001b[0;32m   (...)\u001b[0m\n\u001b[1;32m   2064\u001b[0m \n\u001b[1;32m   2065\u001b[0m \u001b[38;5;124;03m    \"\"\"\u001b[39;00m\n\u001b[0;32m-> 2066\u001b[0m     args, loc, scale \u001b[38;5;241m=\u001b[39m \u001b[38;5;28mself\u001b[39m\u001b[38;5;241m.\u001b[39m_parse_args(\u001b[38;5;241m*\u001b[39margs, \u001b[38;5;241m*\u001b[39m\u001b[38;5;241m*\u001b[39mkwds)\n\u001b[1;32m   2067\u001b[0m     x, loc, scale \u001b[38;5;241m=\u001b[39m \u001b[38;5;28mmap\u001b[39m(asarray, (x, loc, scale))\n\u001b[1;32m   2068\u001b[0m     args \u001b[38;5;241m=\u001b[39m \u001b[38;5;28mtuple\u001b[39m(\u001b[38;5;28mmap\u001b[39m(asarray, args))\n",
      "\u001b[0;31mTypeError\u001b[0m: _parse_args() takes from 1 to 3 positional arguments but 4 were given"
     ]
    }
   ],
   "source": [
    "ks_test(deltas_drivers, 'exponential')"
   ]
  },
  {
   "cell_type": "code",
   "execution_count": 96,
   "id": "8ef67af7-0b91-483c-a0b4-f1306260021c",
   "metadata": {},
   "outputs": [
    {
     "data": {
      "text/plain": [
       "(0.011155166548972001,\n",
       " 0.8396713902462593,\n",
       " (0.0006166666666666666, 1.8737277777777774))"
      ]
     },
     "execution_count": 96,
     "metadata": {},
     "output_type": "execute_result"
    }
   ],
   "source": [
    "ks_test(deltas_riders, 'exponential')"
   ]
  },
  {
   "cell_type": "code",
   "execution_count": 81,
   "id": "882fa58f-1f20-42f7-a555-eff54fb5ca15",
   "metadata": {},
   "outputs": [
    {
     "data": {
      "text/plain": [
       "0.06865942911008756"
      ]
     },
     "execution_count": 81,
     "metadata": {},
     "output_type": "execute_result"
    }
   ],
   "source": [
    "1 / estimates_params(deltas_drivers, 'exponential')[1]"
   ]
  },
  {
   "cell_type": "code",
   "execution_count": 82,
   "id": "0c0344c7-09a6-4838-bb5a-8df07c80e67d",
   "metadata": {},
   "outputs": [
    {
     "data": {
      "text/plain": [
       "0.5336954555831958"
      ]
     },
     "execution_count": 82,
     "metadata": {},
     "output_type": "execute_result"
    }
   ],
   "source": [
    "deltas_riders = convert_time_to_float(riders_df['request_datetime'])\n",
    "1 / estimates_params(deltas_riders, 'exponential')[1]"
   ]
  },
  {
   "cell_type": "code",
   "execution_count": 54,
   "id": "aef22cc6-df98-45c9-bd6f-ed49b356fda3",
   "metadata": {},
   "outputs": [
    {
     "data": {
      "text/html": [
       "<div>\n",
       "<style scoped>\n",
       "    .dataframe tbody tr th:only-of-type {\n",
       "        vertical-align: middle;\n",
       "    }\n",
       "\n",
       "    .dataframe tbody tr th {\n",
       "        vertical-align: top;\n",
       "    }\n",
       "\n",
       "    .dataframe thead th {\n",
       "        text-align: right;\n",
       "    }\n",
       "</style>\n",
       "<table border=\"1\" class=\"dataframe\">\n",
       "  <thead>\n",
       "    <tr style=\"text-align: right;\">\n",
       "      <th></th>\n",
       "      <th>id</th>\n",
       "      <th>pickup_location</th>\n",
       "      <th>dropoff_location</th>\n",
       "      <th>status</th>\n",
       "      <th>request_datetime</th>\n",
       "      <th>pickup_datetime</th>\n",
       "      <th>dropoff_datetime</th>\n",
       "    </tr>\n",
       "  </thead>\n",
       "  <tbody>\n",
       "    <tr>\n",
       "      <th>0</th>\n",
       "      <td>1</td>\n",
       "      <td>(2.447970933303984, 8.045456768809164)</td>\n",
       "      <td>(9.628029064263409, 8.253389565629009)</td>\n",
       "      <td>dropped-off</td>\n",
       "      <td>2025-01-01 13:03:02.081</td>\n",
       "      <td>2025-01-01 13:31:17.759</td>\n",
       "      <td>2025-01-01 13:52:07.832</td>\n",
       "    </tr>\n",
       "    <tr>\n",
       "      <th>1</th>\n",
       "      <td>2</td>\n",
       "      <td>(4.475647451723581, 7.1964404336695615)</td>\n",
       "      <td>(1.211590816472369, 12.280530967768208)</td>\n",
       "      <td>dropped-off</td>\n",
       "      <td>2025-01-01 13:04:51.369</td>\n",
       "      <td>2025-01-01 13:51:00.847</td>\n",
       "      <td>2025-01-01 14:10:34.573</td>\n",
       "    </tr>\n",
       "    <tr>\n",
       "      <th>2</th>\n",
       "      <td>3</td>\n",
       "      <td>(9.20470910820636, 0.7160055403558001)</td>\n",
       "      <td>(2.644199392649951, 5.2282261408887765)</td>\n",
       "      <td>abandoned</td>\n",
       "      <td>2025-01-01 13:05:26.008</td>\n",
       "      <td>NaT</td>\n",
       "      <td>NaT</td>\n",
       "    </tr>\n",
       "    <tr>\n",
       "      <th>3</th>\n",
       "      <td>4</td>\n",
       "      <td>(10.331713748400134, 9.555321968516342)</td>\n",
       "      <td>(4.178168535907174, 16.29295664090579)</td>\n",
       "      <td>dropped-off</td>\n",
       "      <td>2025-01-01 13:05:36.654</td>\n",
       "      <td>2025-01-01 13:28:02.419</td>\n",
       "      <td>2025-01-01 13:52:23.938</td>\n",
       "    </tr>\n",
       "    <tr>\n",
       "      <th>4</th>\n",
       "      <td>5</td>\n",
       "      <td>(8.946241716159276, 14.807761030483535)</td>\n",
       "      <td>(0.7096233854185741, 13.88396865866329)</td>\n",
       "      <td>dropped-off</td>\n",
       "      <td>2025-01-01 13:06:24.152</td>\n",
       "      <td>2025-01-01 13:28:23.701</td>\n",
       "      <td>2025-01-01 13:50:42.604</td>\n",
       "    </tr>\n",
       "  </tbody>\n",
       "</table>\n",
       "</div>"
      ],
      "text/plain": [
       "   id                          pickup_location  \\\n",
       "0   1   (2.447970933303984, 8.045456768809164)   \n",
       "1   2  (4.475647451723581, 7.1964404336695615)   \n",
       "2   3   (9.20470910820636, 0.7160055403558001)   \n",
       "3   4  (10.331713748400134, 9.555321968516342)   \n",
       "4   5  (8.946241716159276, 14.807761030483535)   \n",
       "\n",
       "                          dropoff_location       status  \\\n",
       "0   (9.628029064263409, 8.253389565629009)  dropped-off   \n",
       "1  (1.211590816472369, 12.280530967768208)  dropped-off   \n",
       "2  (2.644199392649951, 5.2282261408887765)    abandoned   \n",
       "3   (4.178168535907174, 16.29295664090579)  dropped-off   \n",
       "4  (0.7096233854185741, 13.88396865866329)  dropped-off   \n",
       "\n",
       "         request_datetime         pickup_datetime        dropoff_datetime  \n",
       "0 2025-01-01 13:03:02.081 2025-01-01 13:31:17.759 2025-01-01 13:52:07.832  \n",
       "1 2025-01-01 13:04:51.369 2025-01-01 13:51:00.847 2025-01-01 14:10:34.573  \n",
       "2 2025-01-01 13:05:26.008                     NaT                     NaT  \n",
       "3 2025-01-01 13:05:36.654 2025-01-01 13:28:02.419 2025-01-01 13:52:23.938  \n",
       "4 2025-01-01 13:06:24.152 2025-01-01 13:28:23.701 2025-01-01 13:50:42.604  "
      ]
     },
     "execution_count": 54,
     "metadata": {},
     "output_type": "execute_result"
    }
   ],
   "source": [
    "ks_test(deltas_drivers, '')"
   ]
  }
 ],
 "metadata": {
  "kernelspec": {
   "display_name": "Python 3 (ipykernel)",
   "language": "python",
   "name": "python3"
  },
  "language_info": {
   "codemirror_mode": {
    "name": "ipython",
    "version": 3
   },
   "file_extension": ".py",
   "mimetype": "text/x-python",
   "name": "python",
   "nbconvert_exporter": "python",
   "pygments_lexer": "ipython3",
   "version": "3.12.2"
  }
 },
 "nbformat": 4,
 "nbformat_minor": 5
}
