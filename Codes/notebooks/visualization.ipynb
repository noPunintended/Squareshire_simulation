{
 "cells": [
  {
   "cell_type": "code",
   "execution_count": 1,
   "id": "f8572d3e-0f6b-4e1a-83db-30fa804024a2",
   "metadata": {},
   "outputs": [],
   "source": [
    "import pickle\n",
    "import numpy as np\n",
    "import pandas as pd\n",
    "import seaborn as sns\n",
    "import matplotlib.pyplot as plt"
   ]
  },
  {
   "cell_type": "code",
   "execution_count": null,
   "id": "69e3c538-0e36-48b7-89db-a44e5aad69e9",
   "metadata": {},
   "outputs": [],
   "source": [
    "drivers_df = pd.read_pickle('../output/default_drivers.pkl')\n",
    "riders_df = pd.read_pickle('../output/default_riders.pkl')\n",
    "\n",
    "im_drivers_df = pd.read_pickle('../output/waiting_points_drivers.pkl')\n",
    "im_riders_df = pd.read_pickle('../output/waiting_points_riders.pkl')\n",
    "\n",
    "br_drivers_df = pd.read_pickle('../output/drivers_break_drivers.pkl')\n",
    "br_riders_df = pd.read_pickle('../output/drivers_break_riders.pkl')\n",
    "\n",
    "ps_drivers_df = pd.read_pickle('../output/pre_search_drivers.pkl')\n",
    "ps_riders_df = pd.read_pickle('../output/pre_search_riders.pkl')\n",
    "\n",
    "ff_drivers_df = pd.read_pickle('../output/improved_drivers.pkl')\n",
    "ff_riders_df = pd.read_pickle('../output/improved_riders.pkl')"
   ]
  },
  {
   "cell_type": "code",
   "execution_count": null,
   "id": "13823d39-0cfe-4e23-856d-b0ce05ab68ff",
   "metadata": {},
   "outputs": [],
   "source": [
    "def analysis(driver_df, riders_df):\n",
    "    n_abandon = riders_df[riders_df['status'] == 'abandoned']['id'].count();\n",
    "    total_riders = riders_df.shape[0];\n",
    "    "
   ]
  },
  {
   "cell_type": "code",
   "execution_count": null,
   "id": "820fd86e-33fd-4e9b-a2b8-cc1b81429e74",
   "metadata": {},
   "outputs": [],
   "source": []
  }
 ],
 "metadata": {
  "kernelspec": {
   "display_name": "Python 3 (ipykernel)",
   "language": "python",
   "name": "python3"
  },
  "language_info": {
   "codemirror_mode": {
    "name": "ipython",
    "version": 3
   },
   "file_extension": ".py",
   "mimetype": "text/x-python",
   "name": "python",
   "nbconvert_exporter": "python",
   "pygments_lexer": "ipython3",
   "version": "3.12.2"
  }
 },
 "nbformat": 4,
 "nbformat_minor": 5
}
